{
 "cells": [
  {
   "cell_type": "markdown",
   "metadata": {},
   "source": [
    "### Load data"
   ]
  },
  {
   "cell_type": "code",
   "execution_count": null,
   "metadata": {
    "collapsed": true
   },
   "outputs": [],
   "source": [
    "import numpy as np\n",
    "import pandas as pd"
   ]
  },
  {
   "cell_type": "code",
   "execution_count": 1,
   "metadata": {},
   "outputs": [
    {
     "data": {
      "text/html": [
       "<div>\n",
       "<style>\n",
       "    .dataframe thead tr:only-child th {\n",
       "        text-align: right;\n",
       "    }\n",
       "\n",
       "    .dataframe thead th {\n",
       "        text-align: left;\n",
       "    }\n",
       "\n",
       "    .dataframe tbody tr th {\n",
       "        vertical-align: top;\n",
       "    }\n",
       "</style>\n",
       "<table border=\"1\" class=\"dataframe\">\n",
       "  <thead>\n",
       "    <tr style=\"text-align: right;\">\n",
       "      <th></th>\n",
       "      <th>txn_key</th>\n",
       "      <th>from_user</th>\n",
       "      <th>to_user</th>\n",
       "      <th>date</th>\n",
       "      <th>amount</th>\n",
       "    </tr>\n",
       "  </thead>\n",
       "  <tbody>\n",
       "    <tr>\n",
       "      <th>0</th>\n",
       "      <td>1</td>\n",
       "      <td>2</td>\n",
       "      <td>2</td>\n",
       "      <td>20130410142250</td>\n",
       "      <td>24.375000</td>\n",
       "    </tr>\n",
       "    <tr>\n",
       "      <th>1</th>\n",
       "      <td>1</td>\n",
       "      <td>2</td>\n",
       "      <td>782477</td>\n",
       "      <td>20130410142250</td>\n",
       "      <td>0.770900</td>\n",
       "    </tr>\n",
       "    <tr>\n",
       "      <th>2</th>\n",
       "      <td>2</td>\n",
       "      <td>620423</td>\n",
       "      <td>4571210</td>\n",
       "      <td>20111227114312</td>\n",
       "      <td>614.174951</td>\n",
       "    </tr>\n",
       "    <tr>\n",
       "      <th>3</th>\n",
       "      <td>2</td>\n",
       "      <td>620423</td>\n",
       "      <td>3</td>\n",
       "      <td>20111227114312</td>\n",
       "      <td>128.040520</td>\n",
       "    </tr>\n",
       "    <tr>\n",
       "      <th>4</th>\n",
       "      <td>3</td>\n",
       "      <td>3</td>\n",
       "      <td>782479</td>\n",
       "      <td>20130410142250</td>\n",
       "      <td>47.140520</td>\n",
       "    </tr>\n",
       "  </tbody>\n",
       "</table>\n",
       "</div>"
      ],
      "text/plain": [
       "   txn_key  from_user  to_user            date      amount\n",
       "0        1          2        2  20130410142250   24.375000\n",
       "1        1          2   782477  20130410142250    0.770900\n",
       "2        2     620423  4571210  20111227114312  614.174951\n",
       "3        2     620423        3  20111227114312  128.040520\n",
       "4        3          3   782479  20130410142250   47.140520"
      ]
     },
     "execution_count": 1,
     "metadata": {},
     "output_type": "execute_result"
    }
   ],
   "source": [
    "column_names = ['txn_key', 'from_user', 'to_user', 'date', 'amount']\n",
    "df = pd.read_csv('../data/bitcoin_uic_data_and_code_20130410/user_edges.txt', names=column_names)\n",
    "\n",
    "df.head()"
   ]
  },
  {
   "cell_type": "markdown",
   "metadata": {},
   "source": [
    "### Select transactions in or before 2010 "
   ]
  },
  {
   "cell_type": "code",
   "execution_count": 2,
   "metadata": {
    "collapsed": true
   },
   "outputs": [],
   "source": [
    "df[ df.date < 20110000000000 ].to_csv('../data/subset/user_edges_2010.csv', index=False)"
   ]
  },
  {
   "cell_type": "code",
   "execution_count": 3,
   "metadata": {
    "collapsed": true
   },
   "outputs": [],
   "source": [
    "df = pd.read_csv('../data/subset/user_edges_2010.csv')"
   ]
  },
  {
   "cell_type": "code",
   "execution_count": 16,
   "metadata": {
    "collapsed": true
   },
   "outputs": [],
   "source": [
    "df['date'] = pd.to_datetime(df.date, format='%Y-%m-%d %H:%M:%S')"
   ]
  },
  {
   "cell_type": "code",
   "execution_count": 5,
   "metadata": {
    "collapsed": true
   },
   "outputs": [],
   "source": [
    "df.to_csv('../data/subset/user_edges_2010.csv', index=False)"
   ]
  },
  {
   "cell_type": "markdown",
   "metadata": {},
   "source": [
    "Transaction Features to use\n",
    "---------------------------\n",
    "\n",
    "- Number of transaction under this key  \n",
    "- Transaction amount, total amount under this key  \n",
    "- From equals to?  \n",
    "- Number of unique from/to under this key  \n",
    "- Transaction date  \n",
    "  - Year  \n",
    "  - Month  \n",
    "  - Day  \n",
    "  - Day of week  \n",
    "  - Day of year  \n",
    "  - Hour  \n",
    "  - Minute  \n",
    "  - Second  \n",
    "\n",
    "\n",
    "- From/to in/out (unique) degree  \n",
    "- From/to clustering coefficient  \n",
    "- From/to in/out transaction frequency  \n",
    "  - All  \n",
    "  - Within ±12 hours  \n",
    "- From/to transaction volume  \n",
    "  - All  \n",
    "  - Within ±12 hours  \n",
    "- From/to first transaction date  \n",
    "- From/to average in/out transaction amount  \n",
    "- From/to average time between in/out transactions  \n"
   ]
  },
  {
   "cell_type": "markdown",
   "metadata": {},
   "source": [
    "### Build graphs from transaction data - Undirected, directed and multi-directed"
   ]
  },
  {
   "cell_type": "code",
   "execution_count": 17,
   "metadata": {
    "collapsed": true
   },
   "outputs": [],
   "source": [
    "import networkx as nx\n",
    "\n",
    "# for features only defined in undirected graph\n",
    "G = nx.from_pandas_dataframe(df, \n",
    "                             source='from_user', target='to_user', \n",
    "                             edge_attr=['txn_key', 'amount', 'date'], \n",
    "                             create_using=nx.Graph()\n",
    "                            )\n",
    "\n",
    "# unique links between users\n",
    "G_di = nx.from_pandas_dataframe(df, \n",
    "                             source='from_user', target='to_user', \n",
    "                             edge_attr=['txn_key', 'amount', 'date'], \n",
    "                             create_using=nx.DiGraph()\n",
    "                            )\n",
    "\n",
    "# the full graph\n",
    "G_mdi = nx.from_pandas_dataframe(df, \n",
    "                             source='from_user', target='to_user', \n",
    "                             edge_attr=['txn_key', 'amount', 'date'], \n",
    "                             create_using=nx.MultiDiGraph()\n",
    "                            )"
   ]
  },
  {
   "cell_type": "code",
   "execution_count": 18,
   "metadata": {
    "collapsed": true
   },
   "outputs": [],
   "source": [
    "# transaction feature maps\n",
    "count_by_key = df.groupby('txn_key').size()\n",
    "amount_by_key = df.groupby('txn_key').amount.sum()\n",
    "ufrom_by_key = df.groupby('txn_key').from_user.agg(pd.Series.nunique)\n",
    "uto_by_key = df.groupby('txn_key').to_user.agg(pd.Series.nunique)\n",
    "\n",
    "# user feature maps\n",
    "in_txn_count = df.groupby('to_user').size()\n",
    "in_key_count = df.groupby('to_user').txn_key.agg(pd.Series.nunique)\n",
    "\n",
    "out_txn_count = df.groupby('from_user').size()\n",
    "out_key_count = df.groupby('from_user').txn_key.agg(pd.Series.nunique)\n",
    "\n",
    "total_in_txn_amt = df.groupby('to_user').amount.sum()\n",
    "total_out_txn_amt = df.groupby('from_user').amount.sum()\n",
    "\n",
    "avg_in_txn_amt = df.groupby('to_user').amount.mean()\n",
    "avg_out_txn_amt = df.groupby('from_user').amount.mean()\n",
    "\n",
    "from_fst_txn_date = df.groupby('from_user').date.min()\n"
   ]
  },
  {
   "cell_type": "code",
   "execution_count": 19,
   "metadata": {
    "collapsed": true,
    "scrolled": false
   },
   "outputs": [],
   "source": [
    "df_feat = df.assign(\n",
    "    # transaction features\n",
    "    count_by_key = df.txn_key.map(count_by_key), \n",
    "    amount_by_key = df.txn_key.map(amount_by_key), \n",
    "    from_eq_to = df.from_user == df.to_user, \n",
    "    ufrom_by_key = df.txn_key.map(ufrom_by_key), \n",
    "    uto_by_key = df.txn_key.map(uto_by_key), \n",
    "    \n",
    "    # transaction date features\n",
    "    date_year = df.date.dt.year, \n",
    "    date_month = df.date.dt.month, \n",
    "    date_day = df.date.dt.day, \n",
    "    date_dayofweek = df.date.dt.dayofweek, \n",
    "    date_dayofyear = df.date.dt.dayofyear, \n",
    "    date_hour = df.date.dt.hour, \n",
    "    date_minute = df.date.dt.minute, \n",
    "    date_second = df.date.dt.second, \n",
    "    \n",
    "    # user features\n",
    "    from_in_txn_count = df.from_user.map(in_txn_count), \n",
    "    from_in_key_count = df.from_user.map(in_key_count), \n",
    "    from_out_txn_count = df.from_user.map(out_txn_count), \n",
    "    from_out_key_count = df.from_user.map(out_key_count), \n",
    "    \n",
    "    to_in_txn_count = df.to_user.map(in_txn_count), \n",
    "    to_in_key_count = df.to_user.map(in_key_count), \n",
    "    to_out_txn_count = df.to_user.map(out_txn_count), \n",
    "    to_out_key_count = df.to_user.map(out_key_count), \n",
    "    \n",
    "    from_total_in_txn_amt = df.from_user.map(total_in_txn_amt), \n",
    "    from_total_out_txn_amt = df.from_user.map(total_out_txn_amt), \n",
    "    \n",
    "    to_total_in_txn_amt = df.to_user.map(total_in_txn_amt), \n",
    "    to_total_out_txn_amt = df.to_user.map(total_out_txn_amt), \n",
    "    \n",
    "    from_avg_in_txn_amt = df.from_user.map(avg_in_txn_amt), \n",
    "    from_avg_out_txn_amt = df.from_user.map(avg_out_txn_amt), \n",
    "    \n",
    "    to_avg_in_txn_amt = df.to_user.map(avg_in_txn_amt), \n",
    "    to_avg_out_txn_amt = df.to_user.map(avg_out_txn_amt), \n",
    "    \n",
    "    from_in_deg = df.from_user.map(G_mdi.in_degree()), \n",
    "    from_out_deg = df.from_user.map(G_mdi.out_degree()), \n",
    "    from_in_udeg = df.from_user.map(G_di.in_degree()), \n",
    "    from_out_udeg = df.from_user.map(G_di.out_degree()), \n",
    "    \n",
    "    to_in_deg = df.to_user.map(G_mdi.in_degree()), \n",
    "    to_out_deg = df.to_user.map(G_mdi.out_degree()), \n",
    "    to_in_udeg = df.to_user.map(G_di.in_degree()), \n",
    "    to_out_udeg = df.to_user.map(G_di.out_degree()), \n",
    "    \n",
    "    from_cc = df.from_user.map(nx.clustering(G)), \n",
    "    to_cc = df.to_user.map(nx.clustering(G))\n",
    "    \n",
    ")\n",
    "\n",
    "df_feat.fillna(0, inplace=True)"
   ]
  },
  {
   "cell_type": "markdown",
   "metadata": {},
   "source": [
    "### Isolation Forest for anomaly detection"
   ]
  },
  {
   "cell_type": "code",
   "execution_count": 20,
   "metadata": {},
   "outputs": [
    {
     "data": {
      "text/plain": [
       "IsolationForest(bootstrap=False, contamination=0.01, max_features=1.0,\n",
       "        max_samples='auto', n_estimators=100, n_jobs=-1, random_state=42,\n",
       "        verbose=0)"
      ]
     },
     "execution_count": 20,
     "metadata": {},
     "output_type": "execute_result"
    }
   ],
   "source": [
    "from sklearn.ensemble import IsolationForest\n",
    "\n",
    "not_train_cols = ['txn_key', 'from_user', 'to_user', 'date']\n",
    "X_train = df_feat[ [col for col in df_feat.columns if col not in not_train_cols] ].values\n",
    "\n",
    "clf = IsolationForest(n_estimators=100, \n",
    "                      contamination=0.01, \n",
    "                      n_jobs=-1, random_state=42)\n",
    "clf.fit(X_train)"
   ]
  },
  {
   "cell_type": "code",
   "execution_count": 122,
   "metadata": {},
   "outputs": [
    {
     "data": {
      "text/plain": [
       "-0.094882165791016271"
      ]
     },
     "execution_count": 122,
     "metadata": {},
     "output_type": "execute_result"
    }
   ],
   "source": [
    "clf.threshold_"
   ]
  },
  {
   "cell_type": "code",
   "execution_count": null,
   "metadata": {
    "collapsed": true
   },
   "outputs": [],
   "source": [
    "pred = clf.predict(X_train)\n",
    "anomalies = (pred != 1)"
   ]
  },
  {
   "cell_type": "markdown",
   "metadata": {},
   "source": [
    "### Anomaly Scores"
   ]
  },
  {
   "cell_type": "code",
   "execution_count": 98,
   "metadata": {},
   "outputs": [
    {
     "data": {
      "image/png": "[encoded data removed]",
      "text/plain": [
       "<matplotlib.figure.Figure at 0x12d271650>"
      ]
     },
     "metadata": {},
     "output_type": "display_data"
    }
   ],
   "source": [
    "import seaborn as sns\n",
    "import matplotlib.pyplot as plt\n",
    "\n",
    "plt.figure(figsize=(12, 8))\n",
    "sns.distplot(scores, kde=False)\n",
    "line = plt.vlines(clf.threshold_, 0, 30000, colors='r', linestyles='dotted')\n",
    "line.set_label('Threshold = -0.0948')\n",
    "plt.legend(loc='upper left', fontsize='medium')\n",
    "plt.title('Anomaly Scores returned by Isolation Forest', fontsize=16);"
   ]
  },
  {
   "cell_type": "markdown",
   "metadata": {},
   "source": [
    "### Visualizing the Transactions"
   ]
  },
  {
   "cell_type": "code",
   "execution_count": 126,
   "metadata": {
    "collapsed": true
   },
   "outputs": [],
   "source": [
    "from sklearn.manifold import TSNE\n",
    "\n",
    "tsne = TSNE(n_components=2, #perplexity=50, \n",
    "            #n_iter=200, n_iter_without_progress=10, \n",
    "            #angle=0.7, \n",
    "            random_state=42)\n",
    "X_tsne = tsne.fit_transform(X_train[150000:155000])"
   ]
  },
  {
   "cell_type": "code",
   "execution_count": 127,
   "metadata": {
    "scrolled": false
   },
   "outputs": [
    {
     "data": {
      "image/png": "[encoded data removed]",
      "text/plain": [
       "<matplotlib.figure.Figure at 0x147dfc550>"
      ]
     },
     "metadata": {},
     "output_type": "display_data"
    }
   ],
   "source": [
    "%matplotlib inline\n",
    "\n",
    "import matplotlib.pyplot as plt\n",
    "import seaborn as sns\n",
    "\n",
    "outlier = anomalies[150000:155000]\n",
    "\n",
    "plt.figure(figsize=(12,8))\n",
    "plt.scatter(X_tsne[~outlier][:,0], X_tsne[~outlier][:,1], marker='.', c='b', alpha=.2)\n",
    "plt.scatter(X_tsne[outlier][:,0], X_tsne[outlier][:,1], marker='o', c='r', alpha=1)\n",
    "plt.legend(['Normal Transactions', 'Abnormal Transactions'])\n",
    "plt.title('t-SNE Visualization of Normal Transactions vs Abnormal Transactions', fontsize=16);"
   ]
  },
  {
   "cell_type": "markdown",
   "metadata": {},
   "source": [
    "### D3 Network Visualization"
   ]
  },
  {
   "cell_type": "code",
   "execution_count": 192,
   "metadata": {},
   "outputs": [
    {
     "name": "stdout",
     "output_type": "stream",
     "text": [
      "anomalies 42234 604 680\n"
     ]
    }
   ],
   "source": [
    "json_date_format = '%Y-%m-%dT%H:%M:%SZ'\n",
    "# df['date'] = df.date.dt.strftime(json_date_format)\n",
    "\n",
    "for scc in nx.strongly_connected_components(G_di):\n",
    "    if len(scc) > 5:\n",
    "        intersect = np.intersect1d(list(scc), anomalies_id)\n",
    "        if intersect.size > 0:\n",
    "            G_sub = G_di.subgraph(scc)\n",
    "        \n",
    "#G_sub_json = json_graph.node_link_data(G_sub)\n",
    "\n",
    "#with open('../d3/json/network.json', 'w') as json_file:\n",
    "#    json.dump(G_sub_json, json_file)"
   ]
  },
  {
   "cell_type": "code",
   "execution_count": 187,
   "metadata": {},
   "outputs": [
    {
     "data": {
      "text/plain": [
       "array([712530, 712530, 224319, ..., 782346, 782346, 782346])"
      ]
     },
     "execution_count": 187,
     "metadata": {},
     "output_type": "execute_result"
    }
   ],
   "source": [
    "anomalies = (pred != 1)\n",
    "np.concatenate((df[anomalies].from_user, df[anomalies].to_user))"
   ]
  },
  {
   "cell_type": "code",
   "execution_count": 245,
   "metadata": {
    "collapsed": true
   },
   "outputs": [],
   "source": [
    "anomalies_pairs = zip(df[anomalies].from_user, df[anomalies].to_user)\n",
    "\n",
    "for i, j in anomalies_pairs:\n",
    "    neigh = G_di.neighbors(i)\n",
    "    neigh += G_di.neighbors(j)\n",
    "    nodes = neigh + [i, j]\n",
    "    if len(nodes) > 10 and len(nodes) < 20:\n",
    "        G_sub = nx.subgraph(G_di, nodes)"
   ]
  },
  {
   "cell_type": "code",
   "execution_count": 246,
   "metadata": {
    "collapsed": true
   },
   "outputs": [],
   "source": [
    "from networkx.readwrite import json_graph\n",
    "import json\n",
    "\n",
    "anomalies_pairs = zip(df[anomalies].from_user, df[anomalies].to_user)\n",
    "\n",
    "for e in G_sub.edges_iter():\n",
    "    if e[:2] in anomalies_pairs:\n",
    "        G_sub.edge[e[0]][e[1]]['type'] = 'licensing'\n",
    "    else:\n",
    "        G_sub.edge[e[0]][e[1]]['type'] = 'suit'\n",
    "\n",
    "G_sub_json = json_graph.node_link_data(G_sub)\n",
    "\n",
    "with open('../d3/json/network.json', 'w') as json_file:\n",
    "    json.dump(G_sub_json, json_file)"
   ]
  },
  {
   "cell_type": "code",
   "execution_count": 220,
   "metadata": {
    "collapsed": true
   },
   "outputs": [],
   "source": [
    "G_di = nx.from_pandas_dataframe(df, \n",
    "                             source='from_user', target='to_user', \n",
    "                             edge_attr=['txn_key', 'amount', 'date'], \n",
    "                             create_using=nx.DiGraph()\n",
    "                            )"
   ]
  },
  {
   "cell_type": "code",
   "execution_count": 1,
   "metadata": {},
   "outputs": [
    {
     "data": {
      "text/html": [
       "\n",
       "        <iframe\n",
       "            width=\"1000\"\n",
       "            height=\"500\"\n",
       "            src=\"./d3/html/network.html\"\n",
       "            frameborder=\"0\"\n",
       "            allowfullscreen\n",
       "        ></iframe>\n",
       "        "
      ],
      "text/plain": [
       "<IPython.lib.display.IFrame at 0x107647d90>"
      ]
     },
     "execution_count": 1,
     "metadata": {},
     "output_type": "execute_result"
    }
   ],
   "source": [
    "from IPython.display import IFrame\n",
    "IFrame('./d3/html/network.html', width=1000, height=500)"
   ]
  },
  {
   "cell_type": "code",
   "execution_count": null,
   "metadata": {
    "collapsed": true
   },
   "outputs": [],
   "source": []
  }
 ],
 "metadata": {
  "kernelspec": {
   "display_name": "Python 2",
   "language": "python",
   "name": "python2"
  },
  "language_info": {
   "codemirror_mode": {
    "name": "ipython",
    "version": 2
   },
   "file_extension": ".py",
   "mimetype": "text/x-python",
   "name": "python",
   "nbconvert_exporter": "python",
   "pygments_lexer": "ipython2",
   "version": "2.7.10"
  }
 },
 "nbformat": 4,
 "nbformat_minor": 1
}
